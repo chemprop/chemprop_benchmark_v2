{
 "cells": [
  {
   "cell_type": "code",
   "execution_count": 1,
   "metadata": {},
   "outputs": [],
   "source": [
    "import pandas as pd\n",
    "from rdkit import Chem\n",
    "import torch\n",
    "\n",
    "from chemprop import data, nn, featurizers, models"
   ]
  },
  {
   "cell_type": "code",
   "execution_count": 2,
   "metadata": {},
   "outputs": [],
   "source": [
    "df = pd.read_csv(\"../../data/pcqm4mv2/data.csv\")\n",
    "smis = df[\"smiles\"].tolist()\n",
    "ys = df[\"homolumogap\"].tolist()"
   ]
  },
  {
   "cell_type": "code",
   "execution_count": 3,
   "metadata": {},
   "outputs": [
    {
     "name": "stderr",
     "output_type": "stream",
     "text": [
      "[14:43:58] Conflicting single bond directions around double bond at index 13.\n",
      "[14:43:58]   BondStereo set to STEREONONE and single bond directions set to NONE.\n",
      "[14:45:03] WARNING: not removing hydrogen atom without neighbors\n",
      "[14:45:03] WARNING: not removing hydrogen atom without neighbors\n",
      "[14:45:26] WARNING: not removing hydrogen atom without neighbors\n",
      "[14:45:26] WARNING: not removing hydrogen atom without neighbors\n",
      "[14:45:26] WARNING: not removing hydrogen atom without neighbors\n",
      "[14:45:56] WARNING: not removing hydrogen atom without neighbors\n",
      "[14:45:56] WARNING: not removing hydrogen atom without neighbors\n",
      "[14:45:56] WARNING: not removing hydrogen atom without neighbors\n",
      "[14:46:41] Conflicting single bond directions around double bond at index 11.\n",
      "[14:46:41]   BondStereo set to STEREONONE and single bond directions set to NONE.\n"
     ]
    },
    {
     "name": "stdout",
     "output_type": "stream",
     "text": [
      "CPU times: user 3min 33s, sys: 12 s, total: 3min 45s\n",
      "Wall time: 3min 45s\n"
     ]
    }
   ],
   "source": [
    "%%time\n",
    "mols = [Chem.MolFromSmiles(smi) for smi in smis]"
   ]
  },
  {
   "cell_type": "code",
   "execution_count": 4,
   "metadata": {},
   "outputs": [
    {
     "name": "stdout",
     "output_type": "stream",
     "text": [
      "CPU times: user 6.89 s, sys: 540 ms, total: 7.43 s\n",
      "Wall time: 7.43 s\n"
     ]
    }
   ],
   "source": [
    "%%time\n",
    "datapoints = [data.MoleculeDatapoint(mol, [y]) for mol, y in zip(mols, ys)]\n"
   ]
  },
  {
   "cell_type": "code",
   "execution_count": 5,
   "metadata": {},
   "outputs": [
    {
     "name": "stdout",
     "output_type": "stream",
     "text": [
      "CPU times: user 1.36 s, sys: 90 ms, total: 1.45 s\n",
      "Wall time: 1.45 s\n"
     ]
    }
   ],
   "source": [
    "%%time\n",
    "dataset = data.MoleculeDataset(datapoints)"
   ]
  },
  {
   "cell_type": "code",
   "execution_count": 6,
   "metadata": {},
   "outputs": [
    {
     "name": "stdout",
     "output_type": "stream",
     "text": [
      "CPU times: user 17min 29s, sys: 14.7 s, total: 17min 44s\n",
      "Wall time: 17min 45s\n"
     ]
    }
   ],
   "source": [
    "%%time\n",
    "dataset.cache = True"
   ]
  },
  {
   "cell_type": "code",
   "execution_count": 7,
   "metadata": {},
   "outputs": [
    {
     "name": "stdout",
     "output_type": "stream",
     "text": [
      "CPU times: user 4.24 ms, sys: 0 ns, total: 4.24 ms\n",
      "Wall time: 3.77 ms\n"
     ]
    }
   ],
   "source": [
    "%%time\n",
    "dataloader = data.build_dataloader(dataset, seed=0, num_workers=0, batch_size=64)"
   ]
  },
  {
   "cell_type": "code",
   "execution_count": 8,
   "metadata": {},
   "outputs": [
    {
     "name": "stdout",
     "output_type": "stream",
     "text": [
      "50.2 s ± 174 ms per loop (mean ± std. dev. of 7 runs, 1 loop each)\n"
     ]
    }
   ],
   "source": [
    "%%timeit\n",
    "for batch in dataloader:\n",
    "    pass"
   ]
  },
  {
   "cell_type": "code",
   "execution_count": 9,
   "metadata": {},
   "outputs": [
    {
     "name": "stdout",
     "output_type": "stream",
     "text": [
      "CPU times: user 4.64 ms, sys: 0 ns, total: 4.64 ms\n",
      "Wall time: 4.29 ms\n"
     ]
    }
   ],
   "source": [
    "%%time\n",
    "mp = nn.BondMessagePassing()\n",
    "agg = nn.NormAggregation()\n",
    "ffn = nn.RegressionFFN()\n",
    "model = models.MPNN(mp, agg, ffn)"
   ]
  },
  {
   "cell_type": "code",
   "execution_count": 10,
   "metadata": {},
   "outputs": [
    {
     "data": {
      "text/plain": [
       "MPNN(\n",
       "  (message_passing): BondMessagePassing(\n",
       "    (W_i): Linear(in_features=86, out_features=300, bias=False)\n",
       "    (W_h): Linear(in_features=300, out_features=300, bias=False)\n",
       "    (W_o): Linear(in_features=372, out_features=300, bias=True)\n",
       "    (dropout): Dropout(p=0.0, inplace=False)\n",
       "    (tau): ReLU()\n",
       "    (V_d_transform): Identity()\n",
       "    (graph_transform): Identity()\n",
       "  )\n",
       "  (agg): NormAggregation()\n",
       "  (bn): BatchNorm1d(300, eps=1e-05, momentum=0.1, affine=True, track_running_stats=True)\n",
       "  (predictor): RegressionFFN(\n",
       "    (ffn): MLP(\n",
       "      (0): Sequential(\n",
       "        (0): Linear(in_features=300, out_features=300, bias=True)\n",
       "      )\n",
       "      (1): Sequential(\n",
       "        (0): ReLU()\n",
       "        (1): Dropout(p=0.0, inplace=False)\n",
       "        (2): Linear(in_features=300, out_features=1, bias=True)\n",
       "      )\n",
       "    )\n",
       "    (criterion): MSELoss(task_weights=[[1.0]])\n",
       "    (output_transform): Identity()\n",
       "  )\n",
       "  (X_d_transform): Identity()\n",
       ")"
      ]
     },
     "execution_count": 10,
     "metadata": {},
     "output_type": "execute_result"
    }
   ],
   "source": [
    "device = torch.device(\"cuda\" if torch.cuda.is_available() else \"cpu\")\n",
    "model.to(device)"
   ]
  },
  {
   "cell_type": "code",
   "execution_count": 11,
   "metadata": {},
   "outputs": [],
   "source": [
    "opt = torch.optim.Adam(model.parameters(), 1e-4)"
   ]
  },
  {
   "cell_type": "code",
   "execution_count": 12,
   "metadata": {},
   "outputs": [
    {
     "name": "stdout",
     "output_type": "stream",
     "text": [
      "CPU times: user 3min 41s, sys: 12.4 s, total: 3min 53s\n",
      "Wall time: 3min 53s\n"
     ]
    }
   ],
   "source": [
    "%%time\n",
    "model.train()\n",
    "for batch in dataloader:\n",
    "    opt.zero_grad()\n",
    "\n",
    "    bmg, V_d, X_d, targets, weights, lt_mask, gt_mask = batch\n",
    "    bmg.V = bmg.V.to(device)\n",
    "    bmg.E = bmg.E.to(device)\n",
    "    bmg.edge_index = bmg.edge_index.to(device)\n",
    "    bmg.rev_edge_index = bmg.rev_edge_index.to(device)\n",
    "    bmg.batch = bmg.batch.to(device)\n",
    "    V_d = V_d.to(device) if V_d is not None else None\n",
    "    X_d = X_d.to(device) if X_d is not None else None\n",
    "    targets = targets.to(device)\n",
    "    weights = weights.to(device)\n",
    "    lt_mask = lt_mask.to(device) if lt_mask is not None else None\n",
    "    gt_mask = gt_mask.to(device) if gt_mask is not None else None\n",
    "    \n",
    "    mask = targets.isfinite()\n",
    "    targets = targets.nan_to_num(nan=0.0)\n",
    "\n",
    "    Z = model.fingerprint(bmg, V_d, X_d)\n",
    "    preds = model.predictor.train_step(Z)\n",
    "    loss = model.criterion(preds, targets, mask, weights, lt_mask, gt_mask)\n",
    "\n",
    "    loss.backward()\n",
    "    opt.step()"
   ]
  },
  {
   "cell_type": "code",
   "execution_count": null,
   "metadata": {},
   "outputs": [],
   "source": []
  }
 ],
 "metadata": {
  "kernelspec": {
   "display_name": "chemprop_benchmark_v2.0.3",
   "language": "python",
   "name": "python3"
  },
  "language_info": {
   "codemirror_mode": {
    "name": "ipython",
    "version": 3
   },
   "file_extension": ".py",
   "mimetype": "text/x-python",
   "name": "python",
   "nbconvert_exporter": "python",
   "pygments_lexer": "ipython3",
   "version": "3.11.9"
  }
 },
 "nbformat": 4,
 "nbformat_minor": 4
}
